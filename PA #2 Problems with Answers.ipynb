{
 "cells": [
  {
   "cell_type": "markdown",
   "id": "5bda2175-99c7-4689-9784-9cfb5913738f",
   "metadata": {},
   "source": [
    "###**PROBLEM 1**"
   ]
  },
  {
   "cell_type": "code",
   "execution_count": 117,
   "id": "246047a3-b5b1-4eba-892c-4a7806073017",
   "metadata": {},
   "outputs": [],
   "source": [
    "import numpy as np"
   ]
  },
  {
   "cell_type": "code",
   "execution_count": 118,
   "id": "36630694-29b9-45c7-8e24-69e868b01f7d",
   "metadata": {},
   "outputs": [
    {
     "data": {
      "text/plain": [
       "array([[0.81353853, 0.51891091, 0.03396946, 0.24048422, 0.18137931],\n",
       "       [0.6855394 , 0.39188864, 0.20850232, 0.83790664, 0.13010398],\n",
       "       [0.39983964, 0.6565539 , 0.69724944, 0.5219916 , 0.9932116 ],\n",
       "       [0.00099892, 0.4665787 , 0.42475511, 0.54956353, 0.22598447],\n",
       "       [0.4701801 , 0.78504456, 0.23000515, 0.17209854, 0.33382932]])"
      ]
     },
     "execution_count": 118,
     "metadata": {},
     "output_type": "execute_result"
    }
   ],
   "source": [
    "X = np.random.random((5, 5))  \n",
    "X\n"
   ]
  },
  {
   "cell_type": "code",
   "execution_count": 119,
   "id": "97951111-e815-4e84-88ee-3345d6121efd",
   "metadata": {},
   "outputs": [
    {
     "name": "stdout",
     "output_type": "stream",
     "text": [
      "Mean of X: 0.4388043195475271\n"
     ]
    }
   ],
   "source": [
    "mean = X.mean()\n",
    "mean\n",
    "print(\"Mean of X:\", mean)"
   ]
  },
  {
   "cell_type": "code",
   "execution_count": 120,
   "id": "d95e5332-7a2b-4b5f-b7cf-659a8cc69f03",
   "metadata": {},
   "outputs": [
    {
     "name": "stdout",
     "output_type": "stream",
     "text": [
      "Standard Deviation of X: 0.2618290878743139\n"
     ]
    }
   ],
   "source": [
    "std = X.std()\n",
    "std\n",
    "print(\"Standard Deviation of X:\", std)"
   ]
  },
  {
   "cell_type": "code",
   "execution_count": 121,
   "id": "f179aa2c-582b-4392-af86-f389b64d38b1",
   "metadata": {},
   "outputs": [
    {
     "name": "stdout",
     "output_type": "stream",
     "text": [
      "\n",
      "Normalized Array:\n",
      " [[ 1.43121688  0.30594991 -1.54617985 -0.75744106 -0.98317955]\n",
      " [ 0.94235168 -0.17918436 -0.87958904  1.52428564 -1.1790147 ]\n",
      " [-0.14881723  0.83164777  0.98707567  0.31771597  2.1174396 ]\n",
      " [-1.67210375  0.1060783  -0.05365793  0.42302103 -0.81281973]\n",
      " [ 0.11983304  1.32239027 -0.79746362 -1.01862547 -0.40092948]]\n"
     ]
    }
   ],
   "source": [
    "X_normalized = (X - mean) / std\n",
    "X_normalized\n",
    "print(\"\\nNormalized Array:\\n\", X_normalized)"
   ]
  },
  {
   "cell_type": "code",
   "execution_count": 122,
   "id": "efd1929d-ca44-44f5-8798-f9c3afdb2d09",
   "metadata": {},
   "outputs": [],
   "source": [
    "np.save('X_normalized.npy', X_normalized)"
   ]
  },
  {
   "cell_type": "markdown",
   "id": "0b1eb349-13c1-400a-959c-48b4ca244e2b",
   "metadata": {},
   "source": [
    "###**PROBLEM 2**"
   ]
  },
  {
   "cell_type": "code",
   "execution_count": 123,
   "id": "8d1f5192-37e1-4a4c-8d04-57aab81b92a6",
   "metadata": {},
   "outputs": [
    {
     "name": "stdout",
     "output_type": "stream",
     "text": [
      "10x10 Array of first 100 Integers:\n",
      " [[  1   2   3   4   5   6   7   8   9  10]\n",
      " [ 11  12  13  14  15  16  17  18  19  20]\n",
      " [ 21  22  23  24  25  26  27  28  29  30]\n",
      " [ 31  32  33  34  35  36  37  38  39  40]\n",
      " [ 41  42  43  44  45  46  47  48  49  50]\n",
      " [ 51  52  53  54  55  56  57  58  59  60]\n",
      " [ 61  62  63  64  65  66  67  68  69  70]\n",
      " [ 71  72  73  74  75  76  77  78  79  80]\n",
      " [ 81  82  83  84  85  86  87  88  89  90]\n",
      " [ 91  92  93  94  95  96  97  98  99 100]]\n"
     ]
    }
   ],
   "source": [
    "numbers = np.arange(1, 101)\n",
    "numbers\n",
    "Arranged_Set = numbers.reshape(10,10)\n",
    "print(\"10x10 Array of first 100 Integers:\\n\", Arranged_Set)"
   ]
  },
  {
   "cell_type": "code",
   "execution_count": 124,
   "id": "ba07d6cc-1f38-455c-96b1-c6848d59e84c",
   "metadata": {},
   "outputs": [
    {
     "name": "stdout",
     "output_type": "stream",
     "text": [
      "10x10 Array of firstSquares:\n",
      " [[    1     4     9    16    25    36    49    64    81   100]\n",
      " [  121   144   169   196   225   256   289   324   361   400]\n",
      " [  441   484   529   576   625   676   729   784   841   900]\n",
      " [  961  1024  1089  1156  1225  1296  1369  1444  1521  1600]\n",
      " [ 1681  1764  1849  1936  2025  2116  2209  2304  2401  2500]\n",
      " [ 2601  2704  2809  2916  3025  3136  3249  3364  3481  3600]\n",
      " [ 3721  3844  3969  4096  4225  4356  4489  4624  4761  4900]\n",
      " [ 5041  5184  5329  5476  5625  5776  5929  6084  6241  6400]\n",
      " [ 6561  6724  6889  7056  7225  7396  7569  7744  7921  8100]\n",
      " [ 8281  8464  8649  8836  9025  9216  9409  9604  9801 10000]]\n"
     ]
    }
   ],
   "source": [
    "squares = numbers ** 2\n",
    "squares\n",
    "A = squares.reshape(10, 10)\n",
    "print(\"10x10 Array of firstSquares:\\n\", A)"
   ]
  },
  {
   "cell_type": "code",
   "execution_count": 125,
   "id": "64b8f9ad-e5ce-478e-9ece-ceced64e1934",
   "metadata": {
    "scrolled": true
   },
   "outputs": [
    {
     "name": "stdout",
     "output_type": "stream",
     "text": [
      "\n",
      "Numbers divisible by 3:\n",
      " [   9   36   81  144  225  324  441  576  729  900 1089 1296 1521 1764\n",
      " 2025 2304 2601 2916 3249 3600 3969 4356 4761 5184 5625 6084 6561 7056\n",
      " 7569 8100 8649 9216 9801]\n"
     ]
    }
   ],
   "source": [
    "div_by_3 = A[A % 3 == 0]\n",
    "print(\"\\nNumbers divisible by 3:\\n\", div_by_3)"
   ]
  },
  {
   "cell_type": "code",
   "execution_count": 126,
   "id": "00ecb446-7104-4578-b45d-0f221e1d280b",
   "metadata": {},
   "outputs": [],
   "source": [
    "np.save('div_by_3.npy', div_by_3)"
   ]
  },
  {
   "cell_type": "code",
   "execution_count": null,
   "id": "8577d09d-ee5b-4bf3-ae1d-5c5a171e8722",
   "metadata": {},
   "outputs": [],
   "source": []
  }
 ],
 "metadata": {
  "kernelspec": {
   "display_name": "Python [conda env:base] *",
   "language": "python",
   "name": "conda-base-py"
  },
  "language_info": {
   "codemirror_mode": {
    "name": "ipython",
    "version": 3
   },
   "file_extension": ".py",
   "mimetype": "text/x-python",
   "name": "python",
   "nbconvert_exporter": "python",
   "pygments_lexer": "ipython3",
   "version": "3.13.5"
  }
 },
 "nbformat": 4,
 "nbformat_minor": 5
}
